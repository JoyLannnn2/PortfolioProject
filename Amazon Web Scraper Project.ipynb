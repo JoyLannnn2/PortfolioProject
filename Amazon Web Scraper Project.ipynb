{
 "cells": [
  {
   "cell_type": "code",
   "execution_count": 2,
   "id": "252521cc",
   "metadata": {},
   "outputs": [],
   "source": [
    "# Import libraries\n",
    "\n",
    "from bs4 import BeautifulSoup\n",
    "import requests\n",
    "import time\n",
    "import datetime\n",
    "import smtplib"
   ]
  },
  {
   "cell_type": "code",
   "execution_count": 15,
   "id": "5b682b39",
   "metadata": {},
   "outputs": [],
   "source": [
    "# Connect to website\n",
    "\n",
    "URL = 'https://www.amazon.com.au/Quilton-Toilet-Tissue-Sheets-count/dp/B07KY7FDX7/ref=sr_1_2?crid=14CTLLYEB4C0Z&dib=eyJ2IjoiMSJ9.Xqfu2GePuPvUI-cciEZHkoLFJwJ078g12ysXs1CaicQwESEKYxESEx8EYD8YfSiKeUXn-1lohKBRZ-uk46_sQI14pRqJZ7s0b83raPxKibmer-8suRB2X9s184eJ08rC.GtxF7fM1HiQvFYbaolK0k-17q-g_kwp04g3tgMIhiuU&dib_tag=se&keywords=quilton%2Btoilet%2Bpaper%2Bgold&qid=1716775221&s=specialty-aps-sns&sprefix=quilton%2Btoilet%2Bpaper%2Bgold%2Cspecialty-aps-sns%2C250&sr=8-2&th=1'\n",
    "\n",
    "headers ={ \"User-Agent\": \"Mozilla/5.0 (Windows NT 10.0; Win64; x64) AppleWebKit/537.36 (KHTML, like Gecko) Chrome/125.0.0.0 Safari/537.36\", \"Accept-Encoding\":\"gzip, deflate\", \"Accept\":\"text/html,application/xhtml+xml,application/xml;q=0.9,*/*;q=0.8\", \"DNT\":\"1\",\"Connection\":\"close\", \"Upgrade-Insecure-Requests\":\"1\"}\n",
    "\n",
    "page = requests.get(URL, headers=headers)\n",
    "\n",
    "soup1 = BeautifulSoup(page.content, \"html.parser\")\n",
    "\n",
    "soup2 = BeautifulSoup(soup1.prettify(), \"html.parser\")\n",
    "\n",
    "title = soup2.find(id = 'productTitle').get_text()\n",
    "\n",
    "price = soup2.find(id = 'sns-base-price').get_text()\n",
    "\n"
   ]
  },
  {
   "cell_type": "code",
   "execution_count": 18,
   "id": "6b9cbafb",
   "metadata": {},
   "outputs": [
    {
     "name": "stdout",
     "output_type": "stream",
     "text": [
      "Quilton 4 Ply Toilet Tissue (140 Sheets per Roll, 11cm x 10cm), 30 count, Pack of 30\n",
      "17.55\n"
     ]
    }
   ],
   "source": [
    "price= price.strip()[1:6]\n",
    "title = title.strip()\n",
    "print(title)\n",
    "print(price)"
   ]
  },
  {
   "cell_type": "code",
   "execution_count": null,
   "id": "6d3a4fd1",
   "metadata": {},
   "outputs": [],
   "source": [
    "import datetime\n",
    "today = datetime.date.today()\n",
    "print(today)"
   ]
  },
  {
   "cell_type": "code",
   "execution_count": 25,
   "id": "86953239",
   "metadata": {},
   "outputs": [],
   "source": [
    "# Create CSV and write headers and data into the file\n",
    "\n",
    "import csv\n",
    "\n",
    "header = ['Title', 'Price','Date']\n",
    "data = [title, price,today]\n",
    "\n",
    "with open('AmazonWebScraperDataset.csv','w', newline='', encoding='UTF8') as f:\n",
    "    writer = csv.writer(f)\n",
    "    writer.writerow(header)\n",
    "    writer.writerow(data)"
   ]
  },
  {
   "cell_type": "code",
   "execution_count": 26,
   "id": "45e7bd7d",
   "metadata": {},
   "outputs": [
    {
     "name": "stdout",
     "output_type": "stream",
     "text": [
      "                                               Title  Price        Date\n",
      "0  Quilton 4 Ply Toilet Tissue (140 Sheets per Ro...  17.55  2024-05-28\n"
     ]
    }
   ],
   "source": [
    "import pandas as pd\n",
    "df = pd.read_csv(r'C:\\Users\\Visitor.DESKTOP-UVGPMM3\\AmazonWebScraperDataset.csv')\n",
    "print(df)"
   ]
  },
  {
   "cell_type": "code",
   "execution_count": null,
   "id": "67839392",
   "metadata": {},
   "outputs": [],
   "source": [
    "# Append data to csv\n",
    "\n",
    "with open('AmazonWebScraperDataset.csv','a+', newline='', encoding='UTF8') as f:\n",
    "    writer = csv.writer(f)\n",
    "    writer.writerow(data)"
   ]
  },
  {
   "cell_type": "code",
   "execution_count": 36,
   "id": "410f89e6",
   "metadata": {},
   "outputs": [],
   "source": [
    "\n",
    "def check_price():\n",
    "    URL = 'https://www.amazon.com.au/Quilton-Toilet-Tissue-Sheets-count/dp/B07KY7FDX7/ref=sr_1_2?crid=14CTLLYEB4C0Z&dib=eyJ2IjoiMSJ9.Xqfu2GePuPvUI-cciEZHkoLFJwJ078g12ysXs1CaicQwESEKYxESEx8EYD8YfSiKeUXn-1lohKBRZ-uk46_sQI14pRqJZ7s0b83raPxKibmer-8suRB2X9s184eJ08rC.GtxF7fM1HiQvFYbaolK0k-17q-g_kwp04g3tgMIhiuU&dib_tag=se&keywords=quilton%2Btoilet%2Bpaper%2Bgold&qid=1716775221&s=specialty-aps-sns&sprefix=quilton%2Btoilet%2Bpaper%2Bgold%2Cspecialty-aps-sns%2C250&sr=8-2&th=1'\n",
    "\n",
    "    headers ={ \"User-Agent\": \"Mozilla/5.0 (Windows NT 10.0; Win64; x64) AppleWebKit/537.36 (KHTML, like Gecko) Chrome/125.0.0.0 Safari/537.36\", \"Accept-Encoding\":\"gzip, deflate\", \"Accept\":\"text/html,application/xhtml+xml,application/xml;q=0.9,*/*;q=0.8\", \"DNT\":\"1\",\"Connection\":\"close\", \"Upgrade-Insecure-Requests\":\"1\"}\n",
    "\n",
    "    page = requests.get(URL, headers=headers)\n",
    "\n",
    "    soup1 = BeautifulSoup(page.content, \"html.parser\")\n",
    "\n",
    "    soup2 = BeautifulSoup(soup1.prettify(), \"html.parser\")\n",
    "\n",
    "    title = soup2.find(id = 'productTitle').get_text()\n",
    "\n",
    "    price = soup2.find(id = 'sns-base-price').get_text()\n",
    "    \n",
    "    price= price.strip()[1:6]\n",
    "    title = title.strip()\n",
    "    \n",
    "    import datetime\n",
    "    today = datetime.date.today()\n",
    "    \n",
    "    import csv\n",
    "\n",
    "    header = ['Title', 'Price','Date']\n",
    "    data = [title, price,today]\n",
    "    \n",
    "    with open('AmazonWebScraperDataset.csv','a+', newline='', encoding='UTF8') as f:\n",
    "        writer = csv.writer(f)\n",
    "        writer.writerow(data)\n",
    "        \n",
    "    if(price < 16):\n",
    "        send_mail()"
   ]
  },
  {
   "cell_type": "code",
   "execution_count": null,
   "id": "d45dd77c",
   "metadata": {},
   "outputs": [],
   "source": [
    "while(True):\n",
    "    check_price()\n",
    "    time.sleep(86400)"
   ]
  },
  {
   "cell_type": "code",
   "execution_count": 39,
   "id": "518aaa68",
   "metadata": {},
   "outputs": [],
   "source": [
    "import pandas as pd\n",
    "df = pd.read_csv(r'C:\\Users\\Visitor.DESKTOP-UVGPMM3\\AmazonWebScraperDataset.csv')\n"
   ]
  },
  {
   "cell_type": "code",
   "execution_count": null,
   "id": "15700a6c",
   "metadata": {},
   "outputs": [],
   "source": [
    "def send_mail():\n",
    "    server = smtplib.SMTP_SSL('smtp.gmail.com',465)\n",
    "    server.ehlo()\n",
    "    #server.starttls()\n",
    "    server.ehlo()\n",
    "    server.login('joylan942@gmail.com','xxxxxxxxxxxxxx')\n",
    "    \n",
    "    subject = \"The toilet paper is below $16! Now is your chance to buy!\"\n",
    "    body = \"Link here: https://www.amazon.com.au/Quilton-Toilet-Tissue-Sheets-count/dp/B07KY7FDX7/ref=sr_1_2?crid=14CTLLYEB4C0Z&dib=eyJ2IjoiMSJ9.Xqfu2GePuPvUI-cciEZHkoLFJwJ078g12ysXs1CaicQwESEKYxESEx8EYD8YfSiKeUXn-1lohKBRZ-uk46_sQI14pRqJZ7s0b83raPxKibmer-8suRB2X9s184eJ08rC.GtxF7fM1HiQvFYbaolK0k-17q-g_kwp04g3tgMIhiuU&dib_tag=se&keywords=quilton%2Btoilet%2Bpaper%2Bgold&qid=1716775221&s=specialty-aps-sns&sprefix=quilton%2Btoilet%2Bpaper%2Bgold%2Cspecialty-aps-sns%2C250&sr=8-2&th=1\"\n",
    "   \n",
    "    msg = f\"Subject: {subject}\\n\\n{body}\"\n",
    "    \n",
    "    server.sendmail(\n",
    "        'joylan942@gmail.com',\n",
    "        msg\n",
    "     \n",
    "    )"
   ]
  },
  {
   "cell_type": "code",
   "execution_count": null,
   "id": "0ac38123",
   "metadata": {},
   "outputs": [],
   "source": []
  }
 ],
 "metadata": {
  "kernelspec": {
   "display_name": "Python 3 (ipykernel)",
   "language": "python",
   "name": "python3"
  },
  "language_info": {
   "codemirror_mode": {
    "name": "ipython",
    "version": 3
   },
   "file_extension": ".py",
   "mimetype": "text/x-python",
   "name": "python",
   "nbconvert_exporter": "python",
   "pygments_lexer": "ipython3",
   "version": "3.11.7"
  }
 },
 "nbformat": 4,
 "nbformat_minor": 5
}
